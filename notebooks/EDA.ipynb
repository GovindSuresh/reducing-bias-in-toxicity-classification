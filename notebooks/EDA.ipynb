{
 "cells": [
  {
   "cell_type": "markdown",
   "metadata": {},
   "source": [
    "# Mangaging bias when identifying toxic comments - EDA & Initial cleaning\n",
    "\n",
    "The goal for our work is to not only train a model to identify toxic comments, but to do so while reducing bias.\n",
    "Bias in this task can be viewed as the situation where certain identies such as 'Black', 'Muslim', 'Gay' e.t.c, begin triggering toxic classification for comments they are in, even when the comment is actually positive. This is a key issue in toxic comment classification. \n",
    "\n",
    "The goal of the [jigsaw unintended Bias in Toxicity Classification](https://www.kaggle.com/c/jigsaw-unintended-bias-in-toxicity-classification/data) Kaggle challenge was to reduce this bias via a newly developed submetric which we have defined below.\n",
    "\n",
    "**Note: The goal of the model is simply to predict the toxicity score of a model. The bias weighted ROC metric below is calulated from the additional identity labels provided as part of the test set, but the test set goal is only the prediction of toxicity. The labels of the test set were previously withheld, however since the competitionis over we can calculate our own metrics for the test set**\n",
    "\n",
    "### Process:\n",
    "\n",
    "This is primarily an NLP task, though we have been provided some additional metadata, we will only be using the text column as our features.\n",
    "\n",
    "We will attempt to solve this problem using a neural network, and baseline linear models.\n",
    "\n",
    "----"
   ]
  },
  {
   "cell_type": "markdown",
   "metadata": {},
   "source": [
    "## Training Data:\n",
    "We will work on the Training data first. Cleaning steps will be replicated on the test data set."
   ]
  },
  {
   "cell_type": "code",
   "execution_count": 112,
   "metadata": {},
   "outputs": [],
   "source": [
    "import numpy as np\n",
    "import pandas as pd\n",
    "import matplotlib.pyplot as plt\n",
    "import seaborn as sns\n",
    "pd.options.display.float_format = '{:.2f}'.format\n",
    "%config InlineBackend.figure_format='retina' #Sharpens matplotlib outputs on Retina resolution displays"
   ]
  },
  {
   "cell_type": "code",
   "execution_count": 2,
   "metadata": {},
   "outputs": [],
   "source": [
    "# load data\n",
    "train_df = pd.read_csv('data/train.csv')"
   ]
  },
  {
   "cell_type": "markdown",
   "metadata": {},
   "source": [
    "## Exploring the data"
   ]
  },
  {
   "cell_type": "code",
   "execution_count": 3,
   "metadata": {},
   "outputs": [
    {
     "data": {
      "text/html": [
       "<div>\n",
       "<style scoped>\n",
       "    .dataframe tbody tr th:only-of-type {\n",
       "        vertical-align: middle;\n",
       "    }\n",
       "\n",
       "    .dataframe tbody tr th {\n",
       "        vertical-align: top;\n",
       "    }\n",
       "\n",
       "    .dataframe thead th {\n",
       "        text-align: right;\n",
       "    }\n",
       "</style>\n",
       "<table border=\"1\" class=\"dataframe\">\n",
       "  <thead>\n",
       "    <tr style=\"text-align: right;\">\n",
       "      <th></th>\n",
       "      <th>id</th>\n",
       "      <th>target</th>\n",
       "      <th>comment_text</th>\n",
       "      <th>severe_toxicity</th>\n",
       "      <th>obscene</th>\n",
       "      <th>identity_attack</th>\n",
       "      <th>insult</th>\n",
       "      <th>threat</th>\n",
       "      <th>asian</th>\n",
       "      <th>atheist</th>\n",
       "      <th>...</th>\n",
       "      <th>article_id</th>\n",
       "      <th>rating</th>\n",
       "      <th>funny</th>\n",
       "      <th>wow</th>\n",
       "      <th>sad</th>\n",
       "      <th>likes</th>\n",
       "      <th>disagree</th>\n",
       "      <th>sexual_explicit</th>\n",
       "      <th>identity_annotator_count</th>\n",
       "      <th>toxicity_annotator_count</th>\n",
       "    </tr>\n",
       "  </thead>\n",
       "  <tbody>\n",
       "    <tr>\n",
       "      <th>0</th>\n",
       "      <td>59848</td>\n",
       "      <td>0.00</td>\n",
       "      <td>This is so cool. It's like, 'would you want yo...</td>\n",
       "      <td>0.00</td>\n",
       "      <td>0.00</td>\n",
       "      <td>0.00</td>\n",
       "      <td>0.00</td>\n",
       "      <td>0.00</td>\n",
       "      <td>nan</td>\n",
       "      <td>nan</td>\n",
       "      <td>...</td>\n",
       "      <td>2006</td>\n",
       "      <td>rejected</td>\n",
       "      <td>0</td>\n",
       "      <td>0</td>\n",
       "      <td>0</td>\n",
       "      <td>0</td>\n",
       "      <td>0</td>\n",
       "      <td>0.00</td>\n",
       "      <td>0</td>\n",
       "      <td>4</td>\n",
       "    </tr>\n",
       "    <tr>\n",
       "      <th>1</th>\n",
       "      <td>59849</td>\n",
       "      <td>0.00</td>\n",
       "      <td>Thank you!! This would make my life a lot less...</td>\n",
       "      <td>0.00</td>\n",
       "      <td>0.00</td>\n",
       "      <td>0.00</td>\n",
       "      <td>0.00</td>\n",
       "      <td>0.00</td>\n",
       "      <td>nan</td>\n",
       "      <td>nan</td>\n",
       "      <td>...</td>\n",
       "      <td>2006</td>\n",
       "      <td>rejected</td>\n",
       "      <td>0</td>\n",
       "      <td>0</td>\n",
       "      <td>0</td>\n",
       "      <td>0</td>\n",
       "      <td>0</td>\n",
       "      <td>0.00</td>\n",
       "      <td>0</td>\n",
       "      <td>4</td>\n",
       "    </tr>\n",
       "    <tr>\n",
       "      <th>2</th>\n",
       "      <td>59852</td>\n",
       "      <td>0.00</td>\n",
       "      <td>This is such an urgent design problem; kudos t...</td>\n",
       "      <td>0.00</td>\n",
       "      <td>0.00</td>\n",
       "      <td>0.00</td>\n",
       "      <td>0.00</td>\n",
       "      <td>0.00</td>\n",
       "      <td>nan</td>\n",
       "      <td>nan</td>\n",
       "      <td>...</td>\n",
       "      <td>2006</td>\n",
       "      <td>rejected</td>\n",
       "      <td>0</td>\n",
       "      <td>0</td>\n",
       "      <td>0</td>\n",
       "      <td>0</td>\n",
       "      <td>0</td>\n",
       "      <td>0.00</td>\n",
       "      <td>0</td>\n",
       "      <td>4</td>\n",
       "    </tr>\n",
       "    <tr>\n",
       "      <th>3</th>\n",
       "      <td>59855</td>\n",
       "      <td>0.00</td>\n",
       "      <td>Is this something I'll be able to install on m...</td>\n",
       "      <td>0.00</td>\n",
       "      <td>0.00</td>\n",
       "      <td>0.00</td>\n",
       "      <td>0.00</td>\n",
       "      <td>0.00</td>\n",
       "      <td>nan</td>\n",
       "      <td>nan</td>\n",
       "      <td>...</td>\n",
       "      <td>2006</td>\n",
       "      <td>rejected</td>\n",
       "      <td>0</td>\n",
       "      <td>0</td>\n",
       "      <td>0</td>\n",
       "      <td>0</td>\n",
       "      <td>0</td>\n",
       "      <td>0.00</td>\n",
       "      <td>0</td>\n",
       "      <td>4</td>\n",
       "    </tr>\n",
       "    <tr>\n",
       "      <th>4</th>\n",
       "      <td>59856</td>\n",
       "      <td>0.89</td>\n",
       "      <td>haha you guys are a bunch of losers.</td>\n",
       "      <td>0.02</td>\n",
       "      <td>0.00</td>\n",
       "      <td>0.02</td>\n",
       "      <td>0.87</td>\n",
       "      <td>0.00</td>\n",
       "      <td>0.00</td>\n",
       "      <td>0.00</td>\n",
       "      <td>...</td>\n",
       "      <td>2006</td>\n",
       "      <td>rejected</td>\n",
       "      <td>0</td>\n",
       "      <td>0</td>\n",
       "      <td>0</td>\n",
       "      <td>1</td>\n",
       "      <td>0</td>\n",
       "      <td>0.00</td>\n",
       "      <td>4</td>\n",
       "      <td>47</td>\n",
       "    </tr>\n",
       "  </tbody>\n",
       "</table>\n",
       "<p>5 rows × 45 columns</p>\n",
       "</div>"
      ],
      "text/plain": [
       "      id  target                                       comment_text  \\\n",
       "0  59848    0.00  This is so cool. It's like, 'would you want yo...   \n",
       "1  59849    0.00  Thank you!! This would make my life a lot less...   \n",
       "2  59852    0.00  This is such an urgent design problem; kudos t...   \n",
       "3  59855    0.00  Is this something I'll be able to install on m...   \n",
       "4  59856    0.89               haha you guys are a bunch of losers.   \n",
       "\n",
       "   severe_toxicity  obscene  identity_attack  insult  threat  asian  atheist  \\\n",
       "0             0.00     0.00             0.00    0.00    0.00    nan      nan   \n",
       "1             0.00     0.00             0.00    0.00    0.00    nan      nan   \n",
       "2             0.00     0.00             0.00    0.00    0.00    nan      nan   \n",
       "3             0.00     0.00             0.00    0.00    0.00    nan      nan   \n",
       "4             0.02     0.00             0.02    0.87    0.00   0.00     0.00   \n",
       "\n",
       "   ...  article_id    rating  funny  wow  sad  likes  disagree  \\\n",
       "0  ...        2006  rejected      0    0    0      0         0   \n",
       "1  ...        2006  rejected      0    0    0      0         0   \n",
       "2  ...        2006  rejected      0    0    0      0         0   \n",
       "3  ...        2006  rejected      0    0    0      0         0   \n",
       "4  ...        2006  rejected      0    0    0      1         0   \n",
       "\n",
       "   sexual_explicit  identity_annotator_count  toxicity_annotator_count  \n",
       "0             0.00                         0                         4  \n",
       "1             0.00                         0                         4  \n",
       "2             0.00                         0                         4  \n",
       "3             0.00                         0                         4  \n",
       "4             0.00                         4                        47  \n",
       "\n",
       "[5 rows x 45 columns]"
      ]
     },
     "execution_count": 3,
     "metadata": {},
     "output_type": "execute_result"
    }
   ],
   "source": [
    "train_df.head()"
   ]
  },
  {
   "cell_type": "code",
   "execution_count": 4,
   "metadata": {},
   "outputs": [
    {
     "data": {
      "text/plain": [
       "1804874"
      ]
     },
     "execution_count": 4,
     "metadata": {},
     "output_type": "execute_result"
    }
   ],
   "source": [
    "len(train_df)"
   ]
  },
  {
   "cell_type": "markdown",
   "metadata": {},
   "source": [
    "There are 1.8m comments and 45 columns in the dataset including the target column."
   ]
  },
  {
   "cell_type": "code",
   "execution_count": 5,
   "metadata": {},
   "outputs": [
    {
     "data": {
      "text/plain": [
       "id                                       int64\n",
       "target                                 float64\n",
       "comment_text                            object\n",
       "severe_toxicity                        float64\n",
       "obscene                                float64\n",
       "identity_attack                        float64\n",
       "insult                                 float64\n",
       "threat                                 float64\n",
       "asian                                  float64\n",
       "atheist                                float64\n",
       "bisexual                               float64\n",
       "black                                  float64\n",
       "buddhist                               float64\n",
       "christian                              float64\n",
       "female                                 float64\n",
       "heterosexual                           float64\n",
       "hindu                                  float64\n",
       "homosexual_gay_or_lesbian              float64\n",
       "intellectual_or_learning_disability    float64\n",
       "jewish                                 float64\n",
       "latino                                 float64\n",
       "male                                   float64\n",
       "muslim                                 float64\n",
       "other_disability                       float64\n",
       "other_gender                           float64\n",
       "other_race_or_ethnicity                float64\n",
       "other_religion                         float64\n",
       "other_sexual_orientation               float64\n",
       "physical_disability                    float64\n",
       "psychiatric_or_mental_illness          float64\n",
       "transgender                            float64\n",
       "white                                  float64\n",
       "created_date                            object\n",
       "publication_id                           int64\n",
       "parent_id                              float64\n",
       "article_id                               int64\n",
       "rating                                  object\n",
       "funny                                    int64\n",
       "wow                                      int64\n",
       "sad                                      int64\n",
       "likes                                    int64\n",
       "disagree                                 int64\n",
       "sexual_explicit                        float64\n",
       "identity_annotator_count                 int64\n",
       "toxicity_annotator_count                 int64\n",
       "dtype: object"
      ]
     },
     "execution_count": 5,
     "metadata": {},
     "output_type": "execute_result"
    }
   ],
   "source": [
    "train_df.dtypes"
   ]
  },
  {
   "cell_type": "markdown",
   "metadata": {},
   "source": [
    "### Dropping uneeded columns\n",
    "\n",
    "The dataset comes with a number of potentially useful metadata columns for further analysis. However for the purposes of this project we are focussing on using NLP processes and models on the 'comment_text' column. In addition to this, we will only keep the identity columns that the Kaggle competition used for evaluation. "
   ]
  },
  {
   "cell_type": "code",
   "execution_count": 6,
   "metadata": {},
   "outputs": [],
   "source": [
    "# list of cols to keep \n",
    "cols_to_keep = ['id', 'target', 'comment_text',\n",
    "    'male', 'female', 'homosexual_gay_or_lesbian', 'christian', 'jewish',\n",
    "    'muslim', 'black', 'white', 'psychiatric_or_mental_illness']\n",
    "\n",
    "# drop all columns not in above list\n",
    "train_df.drop([i for i in train_df.columns if i not in cols_to_keep], axis=1, inplace=True)"
   ]
  },
  {
   "cell_type": "markdown",
   "metadata": {},
   "source": [
    "### Investigating Null Values"
   ]
  },
  {
   "cell_type": "code",
   "execution_count": 7,
   "metadata": {},
   "outputs": [
    {
     "data": {
      "text/plain": [
       "id                                     0\n",
       "target                                 0\n",
       "comment_text                           0\n",
       "black                            1399744\n",
       "christian                        1399744\n",
       "female                           1399744\n",
       "homosexual_gay_or_lesbian        1399744\n",
       "jewish                           1399744\n",
       "male                             1399744\n",
       "muslim                           1399744\n",
       "psychiatric_or_mental_illness    1399744\n",
       "white                            1399744\n",
       "dtype: int64"
      ]
     },
     "execution_count": 7,
     "metadata": {},
     "output_type": "execute_result"
    }
   ],
   "source": [
    "train_df.isna().sum()"
   ]
  },
  {
   "cell_type": "markdown",
   "metadata": {},
   "source": [
    "There appears to be a systemic reason behind the null values for the identy label columns. According to the Kaggle description, only a subste of columns, where a specific identity was mentioned had these identy labels mentioned. Lets check whether this is the case (i.e for the non_nulls we should see all the identity columns filled)"
   ]
  },
  {
   "cell_type": "code",
   "execution_count": 8,
   "metadata": {},
   "outputs": [
    {
     "data": {
      "text/plain": [
       "id                               0\n",
       "target                           0\n",
       "comment_text                     0\n",
       "black                            0\n",
       "christian                        0\n",
       "female                           0\n",
       "homosexual_gay_or_lesbian        0\n",
       "jewish                           0\n",
       "male                             0\n",
       "muslim                           0\n",
       "psychiatric_or_mental_illness    0\n",
       "white                            0\n",
       "dtype: int64"
      ]
     },
     "execution_count": 8,
     "metadata": {},
     "output_type": "execute_result"
    }
   ],
   "source": [
    "# picking out the non_nulls with asian column, any of the identity columns could be used\n",
    "train_df[train_df['black'].isna() == False].isna().sum()"
   ]
  },
  {
   "cell_type": "markdown",
   "metadata": {},
   "source": [
    "Our hypothesis was right. Before deciding on how to deal with the nulls, lets look at the value ranges for the identity labels."
   ]
  },
  {
   "cell_type": "code",
   "execution_count": 9,
   "metadata": {},
   "outputs": [
    {
     "data": {
      "text/html": [
       "<div>\n",
       "<style scoped>\n",
       "    .dataframe tbody tr th:only-of-type {\n",
       "        vertical-align: middle;\n",
       "    }\n",
       "\n",
       "    .dataframe tbody tr th {\n",
       "        vertical-align: top;\n",
       "    }\n",
       "\n",
       "    .dataframe thead th {\n",
       "        text-align: right;\n",
       "    }\n",
       "</style>\n",
       "<table border=\"1\" class=\"dataframe\">\n",
       "  <thead>\n",
       "    <tr style=\"text-align: right;\">\n",
       "      <th></th>\n",
       "      <th>black</th>\n",
       "      <th>christian</th>\n",
       "      <th>female</th>\n",
       "      <th>homosexual_gay_or_lesbian</th>\n",
       "      <th>jewish</th>\n",
       "      <th>male</th>\n",
       "      <th>muslim</th>\n",
       "      <th>psychiatric_or_mental_illness</th>\n",
       "      <th>white</th>\n",
       "    </tr>\n",
       "  </thead>\n",
       "  <tbody>\n",
       "    <tr>\n",
       "      <th>count</th>\n",
       "      <td>405130.00</td>\n",
       "      <td>405130.00</td>\n",
       "      <td>405130.00</td>\n",
       "      <td>405130.00</td>\n",
       "      <td>405130.00</td>\n",
       "      <td>405130.00</td>\n",
       "      <td>405130.00</td>\n",
       "      <td>405130.00</td>\n",
       "      <td>405130.00</td>\n",
       "    </tr>\n",
       "    <tr>\n",
       "      <th>mean</th>\n",
       "      <td>0.03</td>\n",
       "      <td>0.10</td>\n",
       "      <td>0.13</td>\n",
       "      <td>0.03</td>\n",
       "      <td>0.02</td>\n",
       "      <td>0.11</td>\n",
       "      <td>0.05</td>\n",
       "      <td>0.01</td>\n",
       "      <td>0.06</td>\n",
       "    </tr>\n",
       "    <tr>\n",
       "      <th>std</th>\n",
       "      <td>0.17</td>\n",
       "      <td>0.26</td>\n",
       "      <td>0.31</td>\n",
       "      <td>0.14</td>\n",
       "      <td>0.12</td>\n",
       "      <td>0.27</td>\n",
       "      <td>0.20</td>\n",
       "      <td>0.09</td>\n",
       "      <td>0.22</td>\n",
       "    </tr>\n",
       "    <tr>\n",
       "      <th>min</th>\n",
       "      <td>0.00</td>\n",
       "      <td>0.00</td>\n",
       "      <td>0.00</td>\n",
       "      <td>0.00</td>\n",
       "      <td>0.00</td>\n",
       "      <td>0.00</td>\n",
       "      <td>0.00</td>\n",
       "      <td>0.00</td>\n",
       "      <td>0.00</td>\n",
       "    </tr>\n",
       "    <tr>\n",
       "      <th>25%</th>\n",
       "      <td>0.00</td>\n",
       "      <td>0.00</td>\n",
       "      <td>0.00</td>\n",
       "      <td>0.00</td>\n",
       "      <td>0.00</td>\n",
       "      <td>0.00</td>\n",
       "      <td>0.00</td>\n",
       "      <td>0.00</td>\n",
       "      <td>0.00</td>\n",
       "    </tr>\n",
       "    <tr>\n",
       "      <th>50%</th>\n",
       "      <td>0.00</td>\n",
       "      <td>0.00</td>\n",
       "      <td>0.00</td>\n",
       "      <td>0.00</td>\n",
       "      <td>0.00</td>\n",
       "      <td>0.00</td>\n",
       "      <td>0.00</td>\n",
       "      <td>0.00</td>\n",
       "      <td>0.00</td>\n",
       "    </tr>\n",
       "    <tr>\n",
       "      <th>75%</th>\n",
       "      <td>0.00</td>\n",
       "      <td>0.00</td>\n",
       "      <td>0.00</td>\n",
       "      <td>0.00</td>\n",
       "      <td>0.00</td>\n",
       "      <td>0.00</td>\n",
       "      <td>0.00</td>\n",
       "      <td>0.00</td>\n",
       "      <td>0.00</td>\n",
       "    </tr>\n",
       "    <tr>\n",
       "      <th>max</th>\n",
       "      <td>1.00</td>\n",
       "      <td>1.00</td>\n",
       "      <td>1.00</td>\n",
       "      <td>1.00</td>\n",
       "      <td>1.00</td>\n",
       "      <td>1.00</td>\n",
       "      <td>1.00</td>\n",
       "      <td>1.00</td>\n",
       "      <td>1.00</td>\n",
       "    </tr>\n",
       "  </tbody>\n",
       "</table>\n",
       "</div>"
      ],
      "text/plain": [
       "          black  christian    female  homosexual_gay_or_lesbian    jewish  \\\n",
       "count 405130.00  405130.00 405130.00                  405130.00 405130.00   \n",
       "mean       0.03       0.10      0.13                       0.03      0.02   \n",
       "std        0.17       0.26      0.31                       0.14      0.12   \n",
       "min        0.00       0.00      0.00                       0.00      0.00   \n",
       "25%        0.00       0.00      0.00                       0.00      0.00   \n",
       "50%        0.00       0.00      0.00                       0.00      0.00   \n",
       "75%        0.00       0.00      0.00                       0.00      0.00   \n",
       "max        1.00       1.00      1.00                       1.00      1.00   \n",
       "\n",
       "           male    muslim  psychiatric_or_mental_illness     white  \n",
       "count 405130.00 405130.00                      405130.00 405130.00  \n",
       "mean       0.11      0.05                           0.01      0.06  \n",
       "std        0.27      0.20                           0.09      0.22  \n",
       "min        0.00      0.00                           0.00      0.00  \n",
       "25%        0.00      0.00                           0.00      0.00  \n",
       "50%        0.00      0.00                           0.00      0.00  \n",
       "75%        0.00      0.00                           0.00      0.00  \n",
       "max        1.00      1.00                           1.00      1.00  "
      ]
     },
     "execution_count": 9,
     "metadata": {},
     "output_type": "execute_result"
    }
   ],
   "source": [
    "train_df[train_df['black'].isna() == False].loc[:,'black':'white'].describe()"
   ]
  },
  {
   "cell_type": "markdown",
   "metadata": {},
   "source": [
    "It looks like these values range between 1 and 0. We can replace the NaNs with missing values given that these comments did not mention identity."
   ]
  },
  {
   "cell_type": "code",
   "execution_count": 10,
   "metadata": {},
   "outputs": [],
   "source": [
    "# get the identity columns and then loop over them to fillna\n",
    "columns = train_df.loc[:,'black':'white'].columns\n",
    "for i in columns:\n",
    "    train_df[i].fillna(0, inplace=True)"
   ]
  },
  {
   "cell_type": "code",
   "execution_count": 11,
   "metadata": {},
   "outputs": [
    {
     "data": {
      "text/plain": [
       "id                               0\n",
       "target                           0\n",
       "comment_text                     0\n",
       "black                            0\n",
       "christian                        0\n",
       "female                           0\n",
       "homosexual_gay_or_lesbian        0\n",
       "jewish                           0\n",
       "male                             0\n",
       "muslim                           0\n",
       "psychiatric_or_mental_illness    0\n",
       "white                            0\n",
       "dtype: int64"
      ]
     },
     "execution_count": 11,
     "metadata": {},
     "output_type": "execute_result"
    }
   ],
   "source": [
    "train_df.isna().sum()"
   ]
  },
  {
   "cell_type": "markdown",
   "metadata": {},
   "source": [
    "We have no more null values in the training dataset."
   ]
  },
  {
   "cell_type": "markdown",
   "metadata": {},
   "source": [
    "#### Investigating and Converting the target to a binary classifier:\n",
    "The aim of our analysis is to be able to classify text as toxic or not depending on the text contained, and other metadata. The  target column 'target' is not a binary currently given how it was calculated, however we can simply set all rows where target > 0.5 to be 1 (i.e toxic). We could however carry out this task as a regression problem and predict a toxicity score."
   ]
  },
  {
   "cell_type": "code",
   "execution_count": 12,
   "metadata": {},
   "outputs": [
    {
     "data": {
      "image/png": "[encoded data removed]",
      "text/plain": [
       "<Figure size 432x288 with 1 Axes>"
      ]
     },
     "metadata": {
      "needs_background": "light"
     },
     "output_type": "display_data"
    }
   ],
   "source": [
    "# Plot a histogram for the target column\n",
    "plt.figure()\n",
    "plt.hist(train_df['target'])\n",
    "plt.xlabel('Frequency bins')\n",
    "plt.ylabel('Frequency')\n",
    "plt.title('Distribution of toxicity score')\n",
    "plt.show()"
   ]
  },
  {
   "cell_type": "markdown",
   "metadata": {},
   "source": [
    "We can see that by far the majority of columns have a low toxicity score. Let us also investigate what the class distribution woul"
   ]
  },
  {
   "cell_type": "code",
   "execution_count": 13,
   "metadata": {},
   "outputs": [],
   "source": [
    "# first we binarize the target\n",
    "train_df['target_class'] = np.where(train_df['target']>=0.5, 1, 0)"
   ]
  },
  {
   "cell_type": "code",
   "execution_count": 14,
   "metadata": {},
   "outputs": [
    {
     "name": "stdout",
     "output_type": "stream",
     "text": [
      " The total number of toxic comments is 144334, which is 8.00% of the total\n",
      " The total number of non-toxic comments is 1660540, which is 92.00% of the total\n"
     ]
    }
   ],
   "source": [
    "total_rows = len(train_df['target_class'])\n",
    "total_toxic = train_df[train_df['target_class'] == 1]['target_class'].count()\n",
    "total_non_toxic = total_rows - total_toxic\n",
    "prop_toxic = (total_toxic/total_rows)*100\n",
    "prop_non_toxic = (total_non_toxic/total_rows)*100\n",
    "\n",
    "print(f' The total number of toxic comments is {total_toxic}, which is {prop_toxic:.2f}% of the total')\n",
    "print(f' The total number of non-toxic comments is {total_non_toxic}, which is {prop_non_toxic:.2f}% of the total')"
   ]
  },
  {
   "cell_type": "markdown",
   "metadata": {},
   "source": [
    "As we can see, there is significant class imbalance here. This is to be expected given that most comments are not toxic, but this will have to be taken into account during modelling."
   ]
  },
  {
   "cell_type": "markdown",
   "metadata": {},
   "source": [
    "### Binarizing the identity and target columns\n",
    "The aim of our model is to accurately classify toxic comments while reducing the bias from over-associating certain identities with toxicity. The current identity and target columns are not binarized as they are calculated figures from averaging out the human reviewer scores. We will do this now"
   ]
  },
  {
   "cell_type": "code",
   "execution_count": 90,
   "metadata": {},
   "outputs": [],
   "source": [
    "# Convert taget and identity columns to 1,0\n",
    "# We are also changing the datatype to int8 to save memory.\n",
    "cols_to_binarize = train_df.drop(['id','comment_text'], axis=1).columns\n",
    "    \n",
    "def convert_df_to_binary(df, cols):\n",
    "    for col in cols :\n",
    "        df[col] = np.where(df[col] >= 0.5, 1, 0)\n",
    "        df[col] = df[col].astype(np.int8)\n",
    "    return df\n",
    "\n",
    "train_df = convert_df_to_binary(train_df, cols_to_binarize)"
   ]
  },
  {
   "cell_type": "code",
   "execution_count": 91,
   "metadata": {},
   "outputs": [
    {
     "data": {
      "text/html": [
       "<div>\n",
       "<style scoped>\n",
       "    .dataframe tbody tr th:only-of-type {\n",
       "        vertical-align: middle;\n",
       "    }\n",
       "\n",
       "    .dataframe tbody tr th {\n",
       "        vertical-align: top;\n",
       "    }\n",
       "\n",
       "    .dataframe thead th {\n",
       "        text-align: right;\n",
       "    }\n",
       "</style>\n",
       "<table border=\"1\" class=\"dataframe\">\n",
       "  <thead>\n",
       "    <tr style=\"text-align: right;\">\n",
       "      <th></th>\n",
       "      <th>target</th>\n",
       "      <th>black</th>\n",
       "      <th>christian</th>\n",
       "      <th>female</th>\n",
       "      <th>homosexual_gay_or_lesbian</th>\n",
       "      <th>jewish</th>\n",
       "      <th>male</th>\n",
       "      <th>muslim</th>\n",
       "      <th>psychiatric_or_mental_illness</th>\n",
       "      <th>white</th>\n",
       "    </tr>\n",
       "  </thead>\n",
       "  <tbody>\n",
       "    <tr>\n",
       "      <th>count</th>\n",
       "      <td>1804874.00</td>\n",
       "      <td>1804874.00</td>\n",
       "      <td>1804874.00</td>\n",
       "      <td>1804874.00</td>\n",
       "      <td>1804874.00</td>\n",
       "      <td>1804874.00</td>\n",
       "      <td>1804874.00</td>\n",
       "      <td>1804874.00</td>\n",
       "      <td>1804874.00</td>\n",
       "      <td>1804874.00</td>\n",
       "    </tr>\n",
       "    <tr>\n",
       "      <th>mean</th>\n",
       "      <td>0.08</td>\n",
       "      <td>0.01</td>\n",
       "      <td>0.02</td>\n",
       "      <td>0.03</td>\n",
       "      <td>0.01</td>\n",
       "      <td>0.00</td>\n",
       "      <td>0.01</td>\n",
       "      <td>0.01</td>\n",
       "      <td>0.00</td>\n",
       "      <td>0.01</td>\n",
       "    </tr>\n",
       "    <tr>\n",
       "      <th>std</th>\n",
       "      <td>0.27</td>\n",
       "      <td>0.09</td>\n",
       "      <td>0.15</td>\n",
       "      <td>0.17</td>\n",
       "      <td>0.08</td>\n",
       "      <td>0.06</td>\n",
       "      <td>0.10</td>\n",
       "      <td>0.11</td>\n",
       "      <td>0.05</td>\n",
       "      <td>0.12</td>\n",
       "    </tr>\n",
       "    <tr>\n",
       "      <th>min</th>\n",
       "      <td>0.00</td>\n",
       "      <td>0.00</td>\n",
       "      <td>0.00</td>\n",
       "      <td>0.00</td>\n",
       "      <td>0.00</td>\n",
       "      <td>0.00</td>\n",
       "      <td>0.00</td>\n",
       "      <td>0.00</td>\n",
       "      <td>0.00</td>\n",
       "      <td>0.00</td>\n",
       "    </tr>\n",
       "    <tr>\n",
       "      <th>25%</th>\n",
       "      <td>0.00</td>\n",
       "      <td>0.00</td>\n",
       "      <td>0.00</td>\n",
       "      <td>0.00</td>\n",
       "      <td>0.00</td>\n",
       "      <td>0.00</td>\n",
       "      <td>0.00</td>\n",
       "      <td>0.00</td>\n",
       "      <td>0.00</td>\n",
       "      <td>0.00</td>\n",
       "    </tr>\n",
       "    <tr>\n",
       "      <th>50%</th>\n",
       "      <td>0.00</td>\n",
       "      <td>0.00</td>\n",
       "      <td>0.00</td>\n",
       "      <td>0.00</td>\n",
       "      <td>0.00</td>\n",
       "      <td>0.00</td>\n",
       "      <td>0.00</td>\n",
       "      <td>0.00</td>\n",
       "      <td>0.00</td>\n",
       "      <td>0.00</td>\n",
       "    </tr>\n",
       "    <tr>\n",
       "      <th>75%</th>\n",
       "      <td>0.00</td>\n",
       "      <td>0.00</td>\n",
       "      <td>0.00</td>\n",
       "      <td>0.00</td>\n",
       "      <td>0.00</td>\n",
       "      <td>0.00</td>\n",
       "      <td>0.00</td>\n",
       "      <td>0.00</td>\n",
       "      <td>0.00</td>\n",
       "      <td>0.00</td>\n",
       "    </tr>\n",
       "    <tr>\n",
       "      <th>max</th>\n",
       "      <td>1.00</td>\n",
       "      <td>1.00</td>\n",
       "      <td>1.00</td>\n",
       "      <td>1.00</td>\n",
       "      <td>1.00</td>\n",
       "      <td>1.00</td>\n",
       "      <td>1.00</td>\n",
       "      <td>1.00</td>\n",
       "      <td>1.00</td>\n",
       "      <td>1.00</td>\n",
       "    </tr>\n",
       "  </tbody>\n",
       "</table>\n",
       "</div>"
      ],
      "text/plain": [
       "          target      black  christian     female  homosexual_gay_or_lesbian  \\\n",
       "count 1804874.00 1804874.00 1804874.00 1804874.00                 1804874.00   \n",
       "mean        0.08       0.01       0.02       0.03                       0.01   \n",
       "std         0.27       0.09       0.15       0.17                       0.08   \n",
       "min         0.00       0.00       0.00       0.00                       0.00   \n",
       "25%         0.00       0.00       0.00       0.00                       0.00   \n",
       "50%         0.00       0.00       0.00       0.00                       0.00   \n",
       "75%         0.00       0.00       0.00       0.00                       0.00   \n",
       "max         1.00       1.00       1.00       1.00                       1.00   \n",
       "\n",
       "          jewish       male     muslim  psychiatric_or_mental_illness  \\\n",
       "count 1804874.00 1804874.00 1804874.00                     1804874.00   \n",
       "mean        0.00       0.01       0.01                           0.00   \n",
       "std         0.06       0.10       0.11                           0.05   \n",
       "min         0.00       0.00       0.00                           0.00   \n",
       "25%         0.00       0.00       0.00                           0.00   \n",
       "50%         0.00       0.00       0.00                           0.00   \n",
       "75%         0.00       0.00       0.00                           0.00   \n",
       "max         1.00       1.00       1.00                           1.00   \n",
       "\n",
       "           white  \n",
       "count 1804874.00  \n",
       "mean        0.01  \n",
       "std         0.12  \n",
       "min         0.00  \n",
       "25%         0.00  \n",
       "50%         0.00  \n",
       "75%         0.00  \n",
       "max         1.00  "
      ]
     },
     "metadata": {},
     "output_type": "display_data"
    },
    {
     "data": {
      "text/plain": [
       "count   1804874.00\n",
       "mean          0.08\n",
       "std           0.27\n",
       "min           0.00\n",
       "25%           0.00\n",
       "50%           0.00\n",
       "75%           0.00\n",
       "max           1.00\n",
       "Name: target, dtype: float64"
      ]
     },
     "metadata": {},
     "output_type": "display_data"
    }
   ],
   "source": [
    "display(train_df.loc[:,cols_to_binarize].describe())\n",
    "display(train_df['target'].describe())"
   ]
  },
  {
   "cell_type": "code",
   "execution_count": 92,
   "metadata": {},
   "outputs": [
    {
     "data": {
      "text/plain": [
       "id                                int64\n",
       "target                             int8\n",
       "comment_text                     object\n",
       "black                              int8\n",
       "christian                          int8\n",
       "female                             int8\n",
       "homosexual_gay_or_lesbian          int8\n",
       "jewish                             int8\n",
       "male                               int8\n",
       "muslim                             int8\n",
       "psychiatric_or_mental_illness      int8\n",
       "white                              int8\n",
       "dtype: object"
      ]
     },
     "execution_count": 92,
     "metadata": {},
     "output_type": "execute_result"
    }
   ],
   "source": [
    "train_df.dtypes"
   ]
  },
  {
   "cell_type": "markdown",
   "metadata": {},
   "source": [
    "-------"
   ]
  },
  {
   "cell_type": "markdown",
   "metadata": {},
   "source": [
    "### Test Data:\n",
    "Let's apply the same cleaning steps to the test data. For integrity we will make no changes to what we have done on the training data. Given we now have access to both the public and private test sets we will also combine the two.\n",
    "\n",
    "We will:\n",
    "\n",
    "1) Drop the same columns as we did above.\n",
    "\n",
    "2) Fill in NaN's int he identity columns with 0\n",
    "\n",
    "3) Binarize target and identity columns\n",
    "\n",
    "But first we have multiple test datasets. We expect this is because the competition organisers released the private test set and also added additional information for further research once the competition is over. Lets explore these datasets to see if this is the case."
   ]
  },
  {
   "cell_type": "code",
   "execution_count": 44,
   "metadata": {},
   "outputs": [],
   "source": [
    "# Read in the test csvs\n",
    "test_df = pd.read_csv('data/test.csv')\n",
    "test_df_pub = pd.read_csv('data/test_public_expanded.csv')\n",
    "test_df_prv = pd.read_csv('data/test_private_expanded.csv')"
   ]
  },
  {
   "cell_type": "code",
   "execution_count": 21,
   "metadata": {},
   "outputs": [
    {
     "data": {
      "text/html": [
       "<div>\n",
       "<style scoped>\n",
       "    .dataframe tbody tr th:only-of-type {\n",
       "        vertical-align: middle;\n",
       "    }\n",
       "\n",
       "    .dataframe tbody tr th {\n",
       "        vertical-align: top;\n",
       "    }\n",
       "\n",
       "    .dataframe thead th {\n",
       "        text-align: right;\n",
       "    }\n",
       "</style>\n",
       "<table border=\"1\" class=\"dataframe\">\n",
       "  <thead>\n",
       "    <tr style=\"text-align: right;\">\n",
       "      <th></th>\n",
       "      <th>id</th>\n",
       "      <th>comment_text</th>\n",
       "    </tr>\n",
       "  </thead>\n",
       "  <tbody>\n",
       "    <tr>\n",
       "      <th>0</th>\n",
       "      <td>7097320</td>\n",
       "      <td>[ Integrity means that you pay your debts.]\\n\\...</td>\n",
       "    </tr>\n",
       "    <tr>\n",
       "      <th>1</th>\n",
       "      <td>7097321</td>\n",
       "      <td>This is malfeasance by the Administrator and t...</td>\n",
       "    </tr>\n",
       "    <tr>\n",
       "      <th>2</th>\n",
       "      <td>7097322</td>\n",
       "      <td>@Rmiller101 - Spoken like a true elitist. But ...</td>\n",
       "    </tr>\n",
       "    <tr>\n",
       "      <th>3</th>\n",
       "      <td>7097323</td>\n",
       "      <td>Paul: Thank you for your kind words.  I do, in...</td>\n",
       "    </tr>\n",
       "    <tr>\n",
       "      <th>4</th>\n",
       "      <td>7097324</td>\n",
       "      <td>Sorry you missed high school. Eisenhower sent ...</td>\n",
       "    </tr>\n",
       "  </tbody>\n",
       "</table>\n",
       "</div>"
      ],
      "text/plain": [
       "        id                                       comment_text\n",
       "0  7097320  [ Integrity means that you pay your debts.]\\n\\...\n",
       "1  7097321  This is malfeasance by the Administrator and t...\n",
       "2  7097322  @Rmiller101 - Spoken like a true elitist. But ...\n",
       "3  7097323  Paul: Thank you for your kind words.  I do, in...\n",
       "4  7097324  Sorry you missed high school. Eisenhower sent ..."
      ]
     },
     "execution_count": 21,
     "metadata": {},
     "output_type": "execute_result"
    }
   ],
   "source": [
    "# observing test_df\n",
    "test_df.head()"
   ]
  },
  {
   "cell_type": "code",
   "execution_count": 22,
   "metadata": {},
   "outputs": [
    {
     "data": {
      "text/plain": [
       "97320"
      ]
     },
     "execution_count": 22,
     "metadata": {},
     "output_type": "execute_result"
    }
   ],
   "source": [
    "len(test_df['id'])"
   ]
  },
  {
   "cell_type": "code",
   "execution_count": 23,
   "metadata": {},
   "outputs": [
    {
     "data": {
      "text/html": [
       "<div>\n",
       "<style scoped>\n",
       "    .dataframe tbody tr th:only-of-type {\n",
       "        vertical-align: middle;\n",
       "    }\n",
       "\n",
       "    .dataframe tbody tr th {\n",
       "        vertical-align: top;\n",
       "    }\n",
       "\n",
       "    .dataframe thead th {\n",
       "        text-align: right;\n",
       "    }\n",
       "</style>\n",
       "<table border=\"1\" class=\"dataframe\">\n",
       "  <thead>\n",
       "    <tr style=\"text-align: right;\">\n",
       "      <th></th>\n",
       "      <th>id</th>\n",
       "      <th>comment_text</th>\n",
       "      <th>created_date</th>\n",
       "      <th>publication_id</th>\n",
       "      <th>parent_id</th>\n",
       "      <th>article_id</th>\n",
       "      <th>rating</th>\n",
       "      <th>funny</th>\n",
       "      <th>wow</th>\n",
       "      <th>sad</th>\n",
       "      <th>...</th>\n",
       "      <th>other_religion</th>\n",
       "      <th>black</th>\n",
       "      <th>white</th>\n",
       "      <th>asian</th>\n",
       "      <th>latino</th>\n",
       "      <th>other_race_or_ethnicity</th>\n",
       "      <th>physical_disability</th>\n",
       "      <th>intellectual_or_learning_disability</th>\n",
       "      <th>psychiatric_or_mental_illness</th>\n",
       "      <th>other_disability</th>\n",
       "    </tr>\n",
       "  </thead>\n",
       "  <tbody>\n",
       "    <tr>\n",
       "      <th>0</th>\n",
       "      <td>7000000</td>\n",
       "      <td>Jeff Sessions is another one of Trump's Orwell...</td>\n",
       "      <td>2017-01-26 07:37:38.422417+00</td>\n",
       "      <td>13</td>\n",
       "      <td>nan</td>\n",
       "      <td>164149</td>\n",
       "      <td>approved</td>\n",
       "      <td>0</td>\n",
       "      <td>0</td>\n",
       "      <td>0</td>\n",
       "      <td>...</td>\n",
       "      <td>nan</td>\n",
       "      <td>nan</td>\n",
       "      <td>nan</td>\n",
       "      <td>nan</td>\n",
       "      <td>nan</td>\n",
       "      <td>nan</td>\n",
       "      <td>nan</td>\n",
       "      <td>nan</td>\n",
       "      <td>nan</td>\n",
       "      <td>nan</td>\n",
       "    </tr>\n",
       "    <tr>\n",
       "      <th>1</th>\n",
       "      <td>7000001</td>\n",
       "      <td>I actually inspected the infrastructure on Gra...</td>\n",
       "      <td>2016-12-03 20:38:21.204649+00</td>\n",
       "      <td>54</td>\n",
       "      <td>655260.00</td>\n",
       "      <td>154341</td>\n",
       "      <td>approved</td>\n",
       "      <td>0</td>\n",
       "      <td>0</td>\n",
       "      <td>0</td>\n",
       "      <td>...</td>\n",
       "      <td>nan</td>\n",
       "      <td>nan</td>\n",
       "      <td>nan</td>\n",
       "      <td>nan</td>\n",
       "      <td>nan</td>\n",
       "      <td>nan</td>\n",
       "      <td>nan</td>\n",
       "      <td>nan</td>\n",
       "      <td>nan</td>\n",
       "      <td>nan</td>\n",
       "    </tr>\n",
       "    <tr>\n",
       "      <th>2</th>\n",
       "      <td>7000002</td>\n",
       "      <td>No it won't . That's just wishful thinking on ...</td>\n",
       "      <td>2017-05-05 18:07:58.560078+00</td>\n",
       "      <td>21</td>\n",
       "      <td>5219683.00</td>\n",
       "      <td>332005</td>\n",
       "      <td>approved</td>\n",
       "      <td>0</td>\n",
       "      <td>0</td>\n",
       "      <td>0</td>\n",
       "      <td>...</td>\n",
       "      <td>nan</td>\n",
       "      <td>nan</td>\n",
       "      <td>nan</td>\n",
       "      <td>nan</td>\n",
       "      <td>nan</td>\n",
       "      <td>nan</td>\n",
       "      <td>nan</td>\n",
       "      <td>nan</td>\n",
       "      <td>nan</td>\n",
       "      <td>nan</td>\n",
       "    </tr>\n",
       "    <tr>\n",
       "      <th>3</th>\n",
       "      <td>7000003</td>\n",
       "      <td>Instead of wringing our hands and nibbling the...</td>\n",
       "      <td>2017-02-09 14:46:30.189044+00</td>\n",
       "      <td>13</td>\n",
       "      <td>nan</td>\n",
       "      <td>167110</td>\n",
       "      <td>approved</td>\n",
       "      <td>0</td>\n",
       "      <td>0</td>\n",
       "      <td>1</td>\n",
       "      <td>...</td>\n",
       "      <td>nan</td>\n",
       "      <td>nan</td>\n",
       "      <td>nan</td>\n",
       "      <td>nan</td>\n",
       "      <td>nan</td>\n",
       "      <td>nan</td>\n",
       "      <td>nan</td>\n",
       "      <td>nan</td>\n",
       "      <td>nan</td>\n",
       "      <td>nan</td>\n",
       "    </tr>\n",
       "    <tr>\n",
       "      <th>4</th>\n",
       "      <td>7000004</td>\n",
       "      <td>how many of you commenters have garbage piled ...</td>\n",
       "      <td>2016-10-15 01:18:40.521923+00</td>\n",
       "      <td>21</td>\n",
       "      <td>nan</td>\n",
       "      <td>148484</td>\n",
       "      <td>approved</td>\n",
       "      <td>0</td>\n",
       "      <td>0</td>\n",
       "      <td>0</td>\n",
       "      <td>...</td>\n",
       "      <td>nan</td>\n",
       "      <td>nan</td>\n",
       "      <td>nan</td>\n",
       "      <td>nan</td>\n",
       "      <td>nan</td>\n",
       "      <td>nan</td>\n",
       "      <td>nan</td>\n",
       "      <td>nan</td>\n",
       "      <td>nan</td>\n",
       "      <td>nan</td>\n",
       "    </tr>\n",
       "  </tbody>\n",
       "</table>\n",
       "<p>5 rows × 45 columns</p>\n",
       "</div>"
      ],
      "text/plain": [
       "        id                                       comment_text  \\\n",
       "0  7000000  Jeff Sessions is another one of Trump's Orwell...   \n",
       "1  7000001  I actually inspected the infrastructure on Gra...   \n",
       "2  7000002  No it won't . That's just wishful thinking on ...   \n",
       "3  7000003  Instead of wringing our hands and nibbling the...   \n",
       "4  7000004  how many of you commenters have garbage piled ...   \n",
       "\n",
       "                    created_date  publication_id  parent_id  article_id  \\\n",
       "0  2017-01-26 07:37:38.422417+00              13        nan      164149   \n",
       "1  2016-12-03 20:38:21.204649+00              54  655260.00      154341   \n",
       "2  2017-05-05 18:07:58.560078+00              21 5219683.00      332005   \n",
       "3  2017-02-09 14:46:30.189044+00              13        nan      167110   \n",
       "4  2016-10-15 01:18:40.521923+00              21        nan      148484   \n",
       "\n",
       "     rating  funny  wow  sad  ...  other_religion  black  white  asian  \\\n",
       "0  approved      0    0    0  ...             nan    nan    nan    nan   \n",
       "1  approved      0    0    0  ...             nan    nan    nan    nan   \n",
       "2  approved      0    0    0  ...             nan    nan    nan    nan   \n",
       "3  approved      0    0    1  ...             nan    nan    nan    nan   \n",
       "4  approved      0    0    0  ...             nan    nan    nan    nan   \n",
       "\n",
       "   latino  other_race_or_ethnicity  physical_disability  \\\n",
       "0     nan                      nan                  nan   \n",
       "1     nan                      nan                  nan   \n",
       "2     nan                      nan                  nan   \n",
       "3     nan                      nan                  nan   \n",
       "4     nan                      nan                  nan   \n",
       "\n",
       "   intellectual_or_learning_disability  psychiatric_or_mental_illness  \\\n",
       "0                                  nan                            nan   \n",
       "1                                  nan                            nan   \n",
       "2                                  nan                            nan   \n",
       "3                                  nan                            nan   \n",
       "4                                  nan                            nan   \n",
       "\n",
       "   other_disability  \n",
       "0               nan  \n",
       "1               nan  \n",
       "2               nan  \n",
       "3               nan  \n",
       "4               nan  \n",
       "\n",
       "[5 rows x 45 columns]"
      ]
     },
     "execution_count": 23,
     "metadata": {},
     "output_type": "execute_result"
    }
   ],
   "source": [
    "# observing test_df_pub\n",
    "test_df_pub.head()"
   ]
  },
  {
   "cell_type": "code",
   "execution_count": 24,
   "metadata": {},
   "outputs": [
    {
     "data": {
      "text/plain": [
       "97320"
      ]
     },
     "execution_count": 24,
     "metadata": {},
     "output_type": "execute_result"
    }
   ],
   "source": [
    "len(test_df_pub['id'])"
   ]
  },
  {
   "cell_type": "code",
   "execution_count": 25,
   "metadata": {},
   "outputs": [
    {
     "data": {
      "text/html": [
       "<div>\n",
       "<style scoped>\n",
       "    .dataframe tbody tr th:only-of-type {\n",
       "        vertical-align: middle;\n",
       "    }\n",
       "\n",
       "    .dataframe tbody tr th {\n",
       "        vertical-align: top;\n",
       "    }\n",
       "\n",
       "    .dataframe thead th {\n",
       "        text-align: right;\n",
       "    }\n",
       "</style>\n",
       "<table border=\"1\" class=\"dataframe\">\n",
       "  <thead>\n",
       "    <tr style=\"text-align: right;\">\n",
       "      <th></th>\n",
       "      <th>id</th>\n",
       "      <th>comment_text</th>\n",
       "      <th>created_date</th>\n",
       "      <th>publication_id</th>\n",
       "      <th>parent_id</th>\n",
       "      <th>article_id</th>\n",
       "      <th>rating</th>\n",
       "      <th>funny</th>\n",
       "      <th>wow</th>\n",
       "      <th>sad</th>\n",
       "      <th>...</th>\n",
       "      <th>other_religion</th>\n",
       "      <th>black</th>\n",
       "      <th>white</th>\n",
       "      <th>asian</th>\n",
       "      <th>latino</th>\n",
       "      <th>other_race_or_ethnicity</th>\n",
       "      <th>physical_disability</th>\n",
       "      <th>intellectual_or_learning_disability</th>\n",
       "      <th>psychiatric_or_mental_illness</th>\n",
       "      <th>other_disability</th>\n",
       "    </tr>\n",
       "  </thead>\n",
       "  <tbody>\n",
       "    <tr>\n",
       "      <th>0</th>\n",
       "      <td>7097320</td>\n",
       "      <td>[ Integrity means that you pay your debts.]\\n\\...</td>\n",
       "      <td>2017-09-13 20:12:01.484121+00</td>\n",
       "      <td>21</td>\n",
       "      <td>5945023.00</td>\n",
       "      <td>376974</td>\n",
       "      <td>approved</td>\n",
       "      <td>0</td>\n",
       "      <td>0</td>\n",
       "      <td>0</td>\n",
       "      <td>...</td>\n",
       "      <td>nan</td>\n",
       "      <td>nan</td>\n",
       "      <td>nan</td>\n",
       "      <td>nan</td>\n",
       "      <td>nan</td>\n",
       "      <td>nan</td>\n",
       "      <td>nan</td>\n",
       "      <td>nan</td>\n",
       "      <td>nan</td>\n",
       "      <td>nan</td>\n",
       "    </tr>\n",
       "    <tr>\n",
       "      <th>1</th>\n",
       "      <td>7097321</td>\n",
       "      <td>This is malfeasance by the Administrator and t...</td>\n",
       "      <td>2017-05-17 07:01:51.902566+00</td>\n",
       "      <td>55</td>\n",
       "      <td>nan</td>\n",
       "      <td>335003</td>\n",
       "      <td>approved</td>\n",
       "      <td>0</td>\n",
       "      <td>0</td>\n",
       "      <td>0</td>\n",
       "      <td>...</td>\n",
       "      <td>0.00</td>\n",
       "      <td>0.00</td>\n",
       "      <td>0.00</td>\n",
       "      <td>0.00</td>\n",
       "      <td>0.00</td>\n",
       "      <td>0.00</td>\n",
       "      <td>0.00</td>\n",
       "      <td>0.00</td>\n",
       "      <td>0.00</td>\n",
       "      <td>0.00</td>\n",
       "    </tr>\n",
       "    <tr>\n",
       "      <th>2</th>\n",
       "      <td>7097322</td>\n",
       "      <td>@Rmiller101 - Spoken like a true elitist. But ...</td>\n",
       "      <td>2016-12-02 17:12:12.920957+00</td>\n",
       "      <td>54</td>\n",
       "      <td>649389.00</td>\n",
       "      <td>154126</td>\n",
       "      <td>approved</td>\n",
       "      <td>0</td>\n",
       "      <td>0</td>\n",
       "      <td>0</td>\n",
       "      <td>...</td>\n",
       "      <td>0.00</td>\n",
       "      <td>0.00</td>\n",
       "      <td>0.00</td>\n",
       "      <td>0.00</td>\n",
       "      <td>0.00</td>\n",
       "      <td>0.00</td>\n",
       "      <td>0.00</td>\n",
       "      <td>0.00</td>\n",
       "      <td>0.00</td>\n",
       "      <td>0.00</td>\n",
       "    </tr>\n",
       "    <tr>\n",
       "      <th>3</th>\n",
       "      <td>7097323</td>\n",
       "      <td>Paul: Thank you for your kind words.  I do, in...</td>\n",
       "      <td>2017-04-21 14:58:05.474657+00</td>\n",
       "      <td>13</td>\n",
       "      <td>5158666.00</td>\n",
       "      <td>328376</td>\n",
       "      <td>approved</td>\n",
       "      <td>0</td>\n",
       "      <td>0</td>\n",
       "      <td>0</td>\n",
       "      <td>...</td>\n",
       "      <td>nan</td>\n",
       "      <td>nan</td>\n",
       "      <td>nan</td>\n",
       "      <td>nan</td>\n",
       "      <td>nan</td>\n",
       "      <td>nan</td>\n",
       "      <td>nan</td>\n",
       "      <td>nan</td>\n",
       "      <td>nan</td>\n",
       "      <td>nan</td>\n",
       "    </tr>\n",
       "    <tr>\n",
       "      <th>4</th>\n",
       "      <td>7097324</td>\n",
       "      <td>Sorry you missed high school. Eisenhower sent ...</td>\n",
       "      <td>2017-10-01 19:43:12.373229+00</td>\n",
       "      <td>102</td>\n",
       "      <td>6061626.00</td>\n",
       "      <td>383983</td>\n",
       "      <td>approved</td>\n",
       "      <td>1</td>\n",
       "      <td>0</td>\n",
       "      <td>0</td>\n",
       "      <td>...</td>\n",
       "      <td>nan</td>\n",
       "      <td>nan</td>\n",
       "      <td>nan</td>\n",
       "      <td>nan</td>\n",
       "      <td>nan</td>\n",
       "      <td>nan</td>\n",
       "      <td>nan</td>\n",
       "      <td>nan</td>\n",
       "      <td>nan</td>\n",
       "      <td>nan</td>\n",
       "    </tr>\n",
       "  </tbody>\n",
       "</table>\n",
       "<p>5 rows × 45 columns</p>\n",
       "</div>"
      ],
      "text/plain": [
       "        id                                       comment_text  \\\n",
       "0  7097320  [ Integrity means that you pay your debts.]\\n\\...   \n",
       "1  7097321  This is malfeasance by the Administrator and t...   \n",
       "2  7097322  @Rmiller101 - Spoken like a true elitist. But ...   \n",
       "3  7097323  Paul: Thank you for your kind words.  I do, in...   \n",
       "4  7097324  Sorry you missed high school. Eisenhower sent ...   \n",
       "\n",
       "                    created_date  publication_id  parent_id  article_id  \\\n",
       "0  2017-09-13 20:12:01.484121+00              21 5945023.00      376974   \n",
       "1  2017-05-17 07:01:51.902566+00              55        nan      335003   \n",
       "2  2016-12-02 17:12:12.920957+00              54  649389.00      154126   \n",
       "3  2017-04-21 14:58:05.474657+00              13 5158666.00      328376   \n",
       "4  2017-10-01 19:43:12.373229+00             102 6061626.00      383983   \n",
       "\n",
       "     rating  funny  wow  sad  ...  other_religion  black  white  asian  \\\n",
       "0  approved      0    0    0  ...             nan    nan    nan    nan   \n",
       "1  approved      0    0    0  ...            0.00   0.00   0.00   0.00   \n",
       "2  approved      0    0    0  ...            0.00   0.00   0.00   0.00   \n",
       "3  approved      0    0    0  ...             nan    nan    nan    nan   \n",
       "4  approved      1    0    0  ...             nan    nan    nan    nan   \n",
       "\n",
       "   latino  other_race_or_ethnicity  physical_disability  \\\n",
       "0     nan                      nan                  nan   \n",
       "1    0.00                     0.00                 0.00   \n",
       "2    0.00                     0.00                 0.00   \n",
       "3     nan                      nan                  nan   \n",
       "4     nan                      nan                  nan   \n",
       "\n",
       "   intellectual_or_learning_disability  psychiatric_or_mental_illness  \\\n",
       "0                                  nan                            nan   \n",
       "1                                 0.00                           0.00   \n",
       "2                                 0.00                           0.00   \n",
       "3                                  nan                            nan   \n",
       "4                                  nan                            nan   \n",
       "\n",
       "   other_disability  \n",
       "0               nan  \n",
       "1              0.00  \n",
       "2              0.00  \n",
       "3               nan  \n",
       "4               nan  \n",
       "\n",
       "[5 rows x 45 columns]"
      ]
     },
     "execution_count": 25,
     "metadata": {},
     "output_type": "execute_result"
    }
   ],
   "source": [
    "# observing test_df_prv\n",
    "test_df_prv.head()"
   ]
  },
  {
   "cell_type": "code",
   "execution_count": 26,
   "metadata": {},
   "outputs": [
    {
     "data": {
      "text/plain": [
       "97320"
      ]
     },
     "execution_count": 26,
     "metadata": {},
     "output_type": "execute_result"
    }
   ],
   "source": [
    "len(test_df_prv['id'])"
   ]
  },
  {
   "cell_type": "markdown",
   "metadata": {},
   "source": [
    "It would appear that test_df_prv and test_df are duplicates, i.e test_df_prv is just test_df but with the added metadata information."
   ]
  },
  {
   "cell_type": "code",
   "execution_count": 27,
   "metadata": {},
   "outputs": [],
   "source": [
    "# To check we are going to loop over the range of the series length and then evaluate the id at each i.\n",
    "# If the IDs are not equal, we continue, else we append them to the list. This list should be empty if no duplicates\n",
    "# and if completely duplicated the length will = the number of rows of the dfs 97320\n",
    "\n",
    "dup_list = []\n",
    "for i in range(len(test_df_prv['id'])):\n",
    "    if test_df_prv['id'].loc[i] != test_df['id'].loc[i]:\n",
    "        continue\n",
    "    else:\n",
    "        dup_list.append(test_df_prv['id'].loc[i])\n",
    "        "
   ]
  },
  {
   "cell_type": "code",
   "execution_count": 28,
   "metadata": {},
   "outputs": [
    {
     "name": "stdout",
     "output_type": "stream",
     "text": [
      "97320\n"
     ]
    }
   ],
   "source": [
    "print(len(dup_list))"
   ]
  },
  {
   "cell_type": "markdown",
   "metadata": {},
   "source": [
    "As we can see, test_df which is the test dataset with no identity labels and test_df_prv which is the private test dataset with identity labels are identical. For our purposes we will continue to process test_df_prv in line with what we have stated above. "
   ]
  },
  {
   "cell_type": "code",
   "execution_count": 29,
   "metadata": {},
   "outputs": [],
   "source": [
    "# QUick check for duplicates between test_df_prv and test_df_pub\n",
    "dup_list = []\n",
    "for i in range(len(test_df_prv['id'])):\n",
    "    if test_df_prv['id'].loc[i] != test_df_pub['id'].loc[i]:\n",
    "        continue\n",
    "    else:\n",
    "        dup_list.append(test_df_prv['id'].loc[i])"
   ]
  },
  {
   "cell_type": "code",
   "execution_count": 30,
   "metadata": {},
   "outputs": [
    {
     "name": "stdout",
     "output_type": "stream",
     "text": [
      "0\n"
     ]
    }
   ],
   "source": [
    "print(len(dup_list))"
   ]
  },
  {
   "cell_type": "markdown",
   "metadata": {},
   "source": [
    "No duplicates between the public and private sets. This means we can combine the two sets to give us a more rich test set to test against now that the competition is closed."
   ]
  },
  {
   "cell_type": "code",
   "execution_count": 45,
   "metadata": {},
   "outputs": [],
   "source": [
    "#concat the two datasets\n",
    "test_df_concat = pd.concat([test_df_pub,test_df_prv], axis=0)"
   ]
  },
  {
   "cell_type": "code",
   "execution_count": 46,
   "metadata": {},
   "outputs": [
    {
     "data": {
      "text/html": [
       "<div>\n",
       "<style scoped>\n",
       "    .dataframe tbody tr th:only-of-type {\n",
       "        vertical-align: middle;\n",
       "    }\n",
       "\n",
       "    .dataframe tbody tr th {\n",
       "        vertical-align: top;\n",
       "    }\n",
       "\n",
       "    .dataframe thead th {\n",
       "        text-align: right;\n",
       "    }\n",
       "</style>\n",
       "<table border=\"1\" class=\"dataframe\">\n",
       "  <thead>\n",
       "    <tr style=\"text-align: right;\">\n",
       "      <th></th>\n",
       "      <th>id</th>\n",
       "      <th>comment_text</th>\n",
       "      <th>created_date</th>\n",
       "      <th>publication_id</th>\n",
       "      <th>parent_id</th>\n",
       "      <th>article_id</th>\n",
       "      <th>rating</th>\n",
       "      <th>funny</th>\n",
       "      <th>wow</th>\n",
       "      <th>sad</th>\n",
       "      <th>...</th>\n",
       "      <th>other_religion</th>\n",
       "      <th>black</th>\n",
       "      <th>white</th>\n",
       "      <th>asian</th>\n",
       "      <th>latino</th>\n",
       "      <th>other_race_or_ethnicity</th>\n",
       "      <th>physical_disability</th>\n",
       "      <th>intellectual_or_learning_disability</th>\n",
       "      <th>psychiatric_or_mental_illness</th>\n",
       "      <th>other_disability</th>\n",
       "    </tr>\n",
       "  </thead>\n",
       "  <tbody>\n",
       "    <tr>\n",
       "      <th>0</th>\n",
       "      <td>7000000</td>\n",
       "      <td>Jeff Sessions is another one of Trump's Orwell...</td>\n",
       "      <td>2017-01-26 07:37:38.422417+00</td>\n",
       "      <td>13</td>\n",
       "      <td>nan</td>\n",
       "      <td>164149</td>\n",
       "      <td>approved</td>\n",
       "      <td>0</td>\n",
       "      <td>0</td>\n",
       "      <td>0</td>\n",
       "      <td>...</td>\n",
       "      <td>nan</td>\n",
       "      <td>nan</td>\n",
       "      <td>nan</td>\n",
       "      <td>nan</td>\n",
       "      <td>nan</td>\n",
       "      <td>nan</td>\n",
       "      <td>nan</td>\n",
       "      <td>nan</td>\n",
       "      <td>nan</td>\n",
       "      <td>nan</td>\n",
       "    </tr>\n",
       "    <tr>\n",
       "      <th>1</th>\n",
       "      <td>7000001</td>\n",
       "      <td>I actually inspected the infrastructure on Gra...</td>\n",
       "      <td>2016-12-03 20:38:21.204649+00</td>\n",
       "      <td>54</td>\n",
       "      <td>655260.00</td>\n",
       "      <td>154341</td>\n",
       "      <td>approved</td>\n",
       "      <td>0</td>\n",
       "      <td>0</td>\n",
       "      <td>0</td>\n",
       "      <td>...</td>\n",
       "      <td>nan</td>\n",
       "      <td>nan</td>\n",
       "      <td>nan</td>\n",
       "      <td>nan</td>\n",
       "      <td>nan</td>\n",
       "      <td>nan</td>\n",
       "      <td>nan</td>\n",
       "      <td>nan</td>\n",
       "      <td>nan</td>\n",
       "      <td>nan</td>\n",
       "    </tr>\n",
       "    <tr>\n",
       "      <th>2</th>\n",
       "      <td>7000002</td>\n",
       "      <td>No it won't . That's just wishful thinking on ...</td>\n",
       "      <td>2017-05-05 18:07:58.560078+00</td>\n",
       "      <td>21</td>\n",
       "      <td>5219683.00</td>\n",
       "      <td>332005</td>\n",
       "      <td>approved</td>\n",
       "      <td>0</td>\n",
       "      <td>0</td>\n",
       "      <td>0</td>\n",
       "      <td>...</td>\n",
       "      <td>nan</td>\n",
       "      <td>nan</td>\n",
       "      <td>nan</td>\n",
       "      <td>nan</td>\n",
       "      <td>nan</td>\n",
       "      <td>nan</td>\n",
       "      <td>nan</td>\n",
       "      <td>nan</td>\n",
       "      <td>nan</td>\n",
       "      <td>nan</td>\n",
       "    </tr>\n",
       "    <tr>\n",
       "      <th>3</th>\n",
       "      <td>7000003</td>\n",
       "      <td>Instead of wringing our hands and nibbling the...</td>\n",
       "      <td>2017-02-09 14:46:30.189044+00</td>\n",
       "      <td>13</td>\n",
       "      <td>nan</td>\n",
       "      <td>167110</td>\n",
       "      <td>approved</td>\n",
       "      <td>0</td>\n",
       "      <td>0</td>\n",
       "      <td>1</td>\n",
       "      <td>...</td>\n",
       "      <td>nan</td>\n",
       "      <td>nan</td>\n",
       "      <td>nan</td>\n",
       "      <td>nan</td>\n",
       "      <td>nan</td>\n",
       "      <td>nan</td>\n",
       "      <td>nan</td>\n",
       "      <td>nan</td>\n",
       "      <td>nan</td>\n",
       "      <td>nan</td>\n",
       "    </tr>\n",
       "    <tr>\n",
       "      <th>4</th>\n",
       "      <td>7000004</td>\n",
       "      <td>how many of you commenters have garbage piled ...</td>\n",
       "      <td>2016-10-15 01:18:40.521923+00</td>\n",
       "      <td>21</td>\n",
       "      <td>nan</td>\n",
       "      <td>148484</td>\n",
       "      <td>approved</td>\n",
       "      <td>0</td>\n",
       "      <td>0</td>\n",
       "      <td>0</td>\n",
       "      <td>...</td>\n",
       "      <td>nan</td>\n",
       "      <td>nan</td>\n",
       "      <td>nan</td>\n",
       "      <td>nan</td>\n",
       "      <td>nan</td>\n",
       "      <td>nan</td>\n",
       "      <td>nan</td>\n",
       "      <td>nan</td>\n",
       "      <td>nan</td>\n",
       "      <td>nan</td>\n",
       "    </tr>\n",
       "  </tbody>\n",
       "</table>\n",
       "<p>5 rows × 45 columns</p>\n",
       "</div>"
      ],
      "text/plain": [
       "        id                                       comment_text  \\\n",
       "0  7000000  Jeff Sessions is another one of Trump's Orwell...   \n",
       "1  7000001  I actually inspected the infrastructure on Gra...   \n",
       "2  7000002  No it won't . That's just wishful thinking on ...   \n",
       "3  7000003  Instead of wringing our hands and nibbling the...   \n",
       "4  7000004  how many of you commenters have garbage piled ...   \n",
       "\n",
       "                    created_date  publication_id  parent_id  article_id  \\\n",
       "0  2017-01-26 07:37:38.422417+00              13        nan      164149   \n",
       "1  2016-12-03 20:38:21.204649+00              54  655260.00      154341   \n",
       "2  2017-05-05 18:07:58.560078+00              21 5219683.00      332005   \n",
       "3  2017-02-09 14:46:30.189044+00              13        nan      167110   \n",
       "4  2016-10-15 01:18:40.521923+00              21        nan      148484   \n",
       "\n",
       "     rating  funny  wow  sad  ...  other_religion  black  white  asian  \\\n",
       "0  approved      0    0    0  ...             nan    nan    nan    nan   \n",
       "1  approved      0    0    0  ...             nan    nan    nan    nan   \n",
       "2  approved      0    0    0  ...             nan    nan    nan    nan   \n",
       "3  approved      0    0    1  ...             nan    nan    nan    nan   \n",
       "4  approved      0    0    0  ...             nan    nan    nan    nan   \n",
       "\n",
       "   latino  other_race_or_ethnicity  physical_disability  \\\n",
       "0     nan                      nan                  nan   \n",
       "1     nan                      nan                  nan   \n",
       "2     nan                      nan                  nan   \n",
       "3     nan                      nan                  nan   \n",
       "4     nan                      nan                  nan   \n",
       "\n",
       "   intellectual_or_learning_disability  psychiatric_or_mental_illness  \\\n",
       "0                                  nan                            nan   \n",
       "1                                  nan                            nan   \n",
       "2                                  nan                            nan   \n",
       "3                                  nan                            nan   \n",
       "4                                  nan                            nan   \n",
       "\n",
       "   other_disability  \n",
       "0               nan  \n",
       "1               nan  \n",
       "2               nan  \n",
       "3               nan  \n",
       "4               nan  \n",
       "\n",
       "[5 rows x 45 columns]"
      ]
     },
     "execution_count": 46,
     "metadata": {},
     "output_type": "execute_result"
    }
   ],
   "source": [
    "test_df_concat.head()"
   ]
  },
  {
   "cell_type": "code",
   "execution_count": 47,
   "metadata": {},
   "outputs": [
    {
     "data": {
      "text/plain": [
       "Index(['id', 'comment_text', 'created_date', 'publication_id', 'parent_id',\n",
       "       'article_id', 'rating', 'funny', 'wow', 'sad', 'likes', 'disagree',\n",
       "       'toxicity', 'severe_toxicity', 'obscene', 'sexual_explicit',\n",
       "       'identity_attack', 'insult', 'threat', 'identity_annotator_count',\n",
       "       'toxicity_annotator_count', 'male', 'female', 'transgender',\n",
       "       'other_gender', 'heterosexual', 'homosexual_gay_or_lesbian', 'bisexual',\n",
       "       'other_sexual_orientation', 'christian', 'jewish', 'muslim', 'hindu',\n",
       "       'buddhist', 'atheist', 'other_religion', 'black', 'white', 'asian',\n",
       "       'latino', 'other_race_or_ethnicity', 'physical_disability',\n",
       "       'intellectual_or_learning_disability', 'psychiatric_or_mental_illness',\n",
       "       'other_disability'],\n",
       "      dtype='object')"
      ]
     },
     "execution_count": 47,
     "metadata": {},
     "output_type": "execute_result"
    }
   ],
   "source": [
    "test_df_concat.columns"
   ]
  },
  {
   "cell_type": "code",
   "execution_count": 33,
   "metadata": {},
   "outputs": [
    {
     "name": "stdout",
     "output_type": "stream",
     "text": [
      "194640\n"
     ]
    }
   ],
   "source": [
    "print(len(test_df_concat))"
   ]
  },
  {
   "cell_type": "markdown",
   "metadata": {},
   "source": [
    "We can now process this combined test set for our purposes.\n",
    "\n",
    "**NOTE: in the test dataset the target column is called 'toxicity'**"
   ]
  },
  {
   "cell_type": "markdown",
   "metadata": {},
   "source": [
    "#### Dropping uneeded columns\n",
    "\n",
    "We will now drop the same columns as we did for the train set"
   ]
  },
  {
   "cell_type": "code",
   "execution_count": 48,
   "metadata": {},
   "outputs": [],
   "source": [
    "# list of cols to keep \n",
    "cols_to_keep = ['id', 'toxicity', 'comment_text',\n",
    "    'male', 'female', 'homosexual_gay_or_lesbian', 'christian', 'jewish',\n",
    "    'muslim', 'black', 'white', 'psychiatric_or_mental_illness']\n",
    "\n",
    "# drop all columns not in above list\n",
    "test_df_concat.drop([i for i in test_df_concat.columns if i not in cols_to_keep], axis=1, inplace=True)"
   ]
  },
  {
   "cell_type": "markdown",
   "metadata": {},
   "source": [
    "#### Check for nulls"
   ]
  },
  {
   "cell_type": "code",
   "execution_count": 49,
   "metadata": {},
   "outputs": [
    {
     "data": {
      "text/plain": [
       "id                                    0\n",
       "comment_text                          0\n",
       "toxicity                              0\n",
       "male                             151770\n",
       "female                           151770\n",
       "homosexual_gay_or_lesbian        151770\n",
       "christian                        151770\n",
       "jewish                           151770\n",
       "muslim                           151770\n",
       "black                            151770\n",
       "white                            151770\n",
       "psychiatric_or_mental_illness    151770\n",
       "dtype: int64"
      ]
     },
     "execution_count": 49,
     "metadata": {},
     "output_type": "execute_result"
    }
   ],
   "source": [
    "test_df_concat.isna().sum()"
   ]
  },
  {
   "cell_type": "markdown",
   "metadata": {},
   "source": [
    "It would appear as though a similar pattern as we saw for the train dataset exists here."
   ]
  },
  {
   "cell_type": "code",
   "execution_count": 50,
   "metadata": {},
   "outputs": [],
   "source": [
    "# fill nulls in identity columns with 0\n",
    "columns = test_df_concat.loc[:,'male':'psychiatric_or_mental_illness'].columns\n",
    "for i in columns:\n",
    "    test_df_concat[i].fillna(0, inplace=True)"
   ]
  },
  {
   "cell_type": "code",
   "execution_count": 51,
   "metadata": {},
   "outputs": [
    {
     "data": {
      "text/plain": [
       "id                               0\n",
       "comment_text                     0\n",
       "toxicity                         0\n",
       "male                             0\n",
       "female                           0\n",
       "homosexual_gay_or_lesbian        0\n",
       "christian                        0\n",
       "jewish                           0\n",
       "muslim                           0\n",
       "black                            0\n",
       "white                            0\n",
       "psychiatric_or_mental_illness    0\n",
       "dtype: int64"
      ]
     },
     "execution_count": 51,
     "metadata": {},
     "output_type": "execute_result"
    }
   ],
   "source": [
    "test_df_concat.isna().sum()"
   ]
  },
  {
   "cell_type": "code",
   "execution_count": 93,
   "metadata": {},
   "outputs": [],
   "source": [
    "# binarize identity and target col - we know this is the toxicity column for the test dataset\n",
    "cols_to_binarize = test_df_concat.drop(['id','comment_text'], axis=1).columns\n",
    "test_df_concat = convert_df_to_binary(test_df_concat, cols_to_binarize)"
   ]
  },
  {
   "cell_type": "code",
   "execution_count": 95,
   "metadata": {},
   "outputs": [
    {
     "data": {
      "text/html": [
       "<div>\n",
       "<style scoped>\n",
       "    .dataframe tbody tr th:only-of-type {\n",
       "        vertical-align: middle;\n",
       "    }\n",
       "\n",
       "    .dataframe tbody tr th {\n",
       "        vertical-align: top;\n",
       "    }\n",
       "\n",
       "    .dataframe thead th {\n",
       "        text-align: right;\n",
       "    }\n",
       "</style>\n",
       "<table border=\"1\" class=\"dataframe\">\n",
       "  <thead>\n",
       "    <tr style=\"text-align: right;\">\n",
       "      <th></th>\n",
       "      <th>toxicity</th>\n",
       "      <th>male</th>\n",
       "      <th>female</th>\n",
       "      <th>homosexual_gay_or_lesbian</th>\n",
       "      <th>christian</th>\n",
       "      <th>jewish</th>\n",
       "      <th>muslim</th>\n",
       "      <th>black</th>\n",
       "      <th>white</th>\n",
       "      <th>psychiatric_or_mental_illness</th>\n",
       "    </tr>\n",
       "  </thead>\n",
       "  <tbody>\n",
       "    <tr>\n",
       "      <th>count</th>\n",
       "      <td>194640.00</td>\n",
       "      <td>194640.00</td>\n",
       "      <td>194640.00</td>\n",
       "      <td>194640.00</td>\n",
       "      <td>194640.00</td>\n",
       "      <td>194640.00</td>\n",
       "      <td>194640.00</td>\n",
       "      <td>194640.00</td>\n",
       "      <td>194640.00</td>\n",
       "      <td>194640.00</td>\n",
       "    </tr>\n",
       "    <tr>\n",
       "      <th>mean</th>\n",
       "      <td>0.08</td>\n",
       "      <td>0.02</td>\n",
       "      <td>0.03</td>\n",
       "      <td>0.01</td>\n",
       "      <td>0.02</td>\n",
       "      <td>0.00</td>\n",
       "      <td>0.01</td>\n",
       "      <td>0.01</td>\n",
       "      <td>0.01</td>\n",
       "      <td>0.00</td>\n",
       "    </tr>\n",
       "    <tr>\n",
       "      <th>std</th>\n",
       "      <td>0.27</td>\n",
       "      <td>0.15</td>\n",
       "      <td>0.16</td>\n",
       "      <td>0.07</td>\n",
       "      <td>0.15</td>\n",
       "      <td>0.07</td>\n",
       "      <td>0.10</td>\n",
       "      <td>0.09</td>\n",
       "      <td>0.11</td>\n",
       "      <td>0.05</td>\n",
       "    </tr>\n",
       "    <tr>\n",
       "      <th>min</th>\n",
       "      <td>0.00</td>\n",
       "      <td>0.00</td>\n",
       "      <td>0.00</td>\n",
       "      <td>0.00</td>\n",
       "      <td>0.00</td>\n",
       "      <td>0.00</td>\n",
       "      <td>0.00</td>\n",
       "      <td>0.00</td>\n",
       "      <td>0.00</td>\n",
       "      <td>0.00</td>\n",
       "    </tr>\n",
       "    <tr>\n",
       "      <th>25%</th>\n",
       "      <td>0.00</td>\n",
       "      <td>0.00</td>\n",
       "      <td>0.00</td>\n",
       "      <td>0.00</td>\n",
       "      <td>0.00</td>\n",
       "      <td>0.00</td>\n",
       "      <td>0.00</td>\n",
       "      <td>0.00</td>\n",
       "      <td>0.00</td>\n",
       "      <td>0.00</td>\n",
       "    </tr>\n",
       "    <tr>\n",
       "      <th>50%</th>\n",
       "      <td>0.00</td>\n",
       "      <td>0.00</td>\n",
       "      <td>0.00</td>\n",
       "      <td>0.00</td>\n",
       "      <td>0.00</td>\n",
       "      <td>0.00</td>\n",
       "      <td>0.00</td>\n",
       "      <td>0.00</td>\n",
       "      <td>0.00</td>\n",
       "      <td>0.00</td>\n",
       "    </tr>\n",
       "    <tr>\n",
       "      <th>75%</th>\n",
       "      <td>0.00</td>\n",
       "      <td>0.00</td>\n",
       "      <td>0.00</td>\n",
       "      <td>0.00</td>\n",
       "      <td>0.00</td>\n",
       "      <td>0.00</td>\n",
       "      <td>0.00</td>\n",
       "      <td>0.00</td>\n",
       "      <td>0.00</td>\n",
       "      <td>0.00</td>\n",
       "    </tr>\n",
       "    <tr>\n",
       "      <th>max</th>\n",
       "      <td>1.00</td>\n",
       "      <td>1.00</td>\n",
       "      <td>1.00</td>\n",
       "      <td>1.00</td>\n",
       "      <td>1.00</td>\n",
       "      <td>1.00</td>\n",
       "      <td>1.00</td>\n",
       "      <td>1.00</td>\n",
       "      <td>1.00</td>\n",
       "      <td>1.00</td>\n",
       "    </tr>\n",
       "  </tbody>\n",
       "</table>\n",
       "</div>"
      ],
      "text/plain": [
       "       toxicity      male    female  homosexual_gay_or_lesbian  christian  \\\n",
       "count 194640.00 194640.00 194640.00                  194640.00  194640.00   \n",
       "mean       0.08      0.02      0.03                       0.01       0.02   \n",
       "std        0.27      0.15      0.16                       0.07       0.15   \n",
       "min        0.00      0.00      0.00                       0.00       0.00   \n",
       "25%        0.00      0.00      0.00                       0.00       0.00   \n",
       "50%        0.00      0.00      0.00                       0.00       0.00   \n",
       "75%        0.00      0.00      0.00                       0.00       0.00   \n",
       "max        1.00      1.00      1.00                       1.00       1.00   \n",
       "\n",
       "         jewish    muslim     black     white  psychiatric_or_mental_illness  \n",
       "count 194640.00 194640.00 194640.00 194640.00                      194640.00  \n",
       "mean       0.00      0.01      0.01      0.01                           0.00  \n",
       "std        0.07      0.10      0.09      0.11                           0.05  \n",
       "min        0.00      0.00      0.00      0.00                           0.00  \n",
       "25%        0.00      0.00      0.00      0.00                           0.00  \n",
       "50%        0.00      0.00      0.00      0.00                           0.00  \n",
       "75%        0.00      0.00      0.00      0.00                           0.00  \n",
       "max        1.00      1.00      1.00      1.00                           1.00  "
      ]
     },
     "metadata": {},
     "output_type": "display_data"
    },
    {
     "data": {
      "text/plain": [
       "count   194640.00\n",
       "mean         0.08\n",
       "std          0.27\n",
       "min          0.00\n",
       "25%          0.00\n",
       "50%          0.00\n",
       "75%          0.00\n",
       "max          1.00\n",
       "Name: toxicity, dtype: float64"
      ]
     },
     "metadata": {},
     "output_type": "display_data"
    }
   ],
   "source": [
    "display(test_df_concat.loc[:,cols_to_binarize].describe())\n",
    "display(test_df_concat['toxicity'].describe())"
   ]
  },
  {
   "cell_type": "markdown",
   "metadata": {},
   "source": [
    "Everything looks good! Before we save the files to file, lets rename the 'toxicity column in the test dataset to target for consistency."
   ]
  },
  {
   "cell_type": "code",
   "execution_count": 96,
   "metadata": {},
   "outputs": [],
   "source": [
    "test_df_concat.rename({'toxicity' : 'target'}, axis=1, inplace=1)"
   ]
  },
  {
   "cell_type": "code",
   "execution_count": 97,
   "metadata": {},
   "outputs": [
    {
     "data": {
      "text/plain": [
       "Index(['id', 'comment_text', 'target', 'male', 'female',\n",
       "       'homosexual_gay_or_lesbian', 'christian', 'jewish', 'muslim', 'black',\n",
       "       'white', 'psychiatric_or_mental_illness'],\n",
       "      dtype='object')"
      ]
     },
     "execution_count": 97,
     "metadata": {},
     "output_type": "execute_result"
    }
   ],
   "source": [
    "test_df_concat.columns"
   ]
  },
  {
   "cell_type": "markdown",
   "metadata": {},
   "source": [
    "### Output to csv"
   ]
  },
  {
   "cell_type": "code",
   "execution_count": 100,
   "metadata": {},
   "outputs": [],
   "source": [
    "train_df.to_csv('data/train_clean.csv')"
   ]
  },
  {
   "cell_type": "code",
   "execution_count": 101,
   "metadata": {},
   "outputs": [],
   "source": [
    "test_df_concat.to_csv('data/test_clean.csv')"
   ]
  },
  {
   "cell_type": "markdown",
   "metadata": {},
   "source": [
    "----------"
   ]
  },
  {
   "cell_type": "markdown",
   "metadata": {},
   "source": [
    "## Data Exploration"
   ]
  },
  {
   "cell_type": "markdown",
   "metadata": {},
   "source": [
    "#### Length of Comments"
   ]
  },
  {
   "cell_type": "code",
   "execution_count": 102,
   "metadata": {},
   "outputs": [],
   "source": [
    "# Length of comments - first we need to get the number of words per comment \n",
    "comment_length = []\n",
    "for i in range(len(train_df)):\n",
    "    comment = train_df.loc[i,'comment_text']\n",
    "    comment_length.append(len(comment.split(' ')))\n"
   ]
  },
  {
   "cell_type": "code",
   "execution_count": 103,
   "metadata": {},
   "outputs": [],
   "source": [
    "train_df['comment_len'] = comment_length"
   ]
  },
  {
   "cell_type": "code",
   "execution_count": 104,
   "metadata": {},
   "outputs": [],
   "source": [
    "x = train_df.loc[614677,'comment_text']"
   ]
  },
  {
   "cell_type": "code",
   "execution_count": 105,
   "metadata": {},
   "outputs": [
    {
     "data": {
      "text/plain": [
       "854"
      ]
     },
     "execution_count": 105,
     "metadata": {},
     "output_type": "execute_result"
    }
   ],
   "source": [
    "len(x) - len(''.join(x.split())) + 1"
   ]
  },
  {
   "cell_type": "code",
   "execution_count": 113,
   "metadata": {},
   "outputs": [
    {
     "data": {
      "image/png": "[encoded data removed]",
      "text/plain": [
       "<Figure size 432x288 with 1 Axes>"
      ]
     },
     "metadata": {
      "image/png": {
       "height": 277,
       "width": 407
      },
      "needs_background": "light"
     },
     "output_type": "display_data"
    }
   ],
   "source": [
    "plt.figure()\n",
    "plt.hist(train_df['comment_len'], bins=40)\n",
    "plt.xlabel('Frequency bins')\n",
    "plt.ylabel('Frequency')\n",
    "plt.title('Distribution of Word Count')\n",
    "plt.show()"
   ]
  },
  {
   "cell_type": "code",
   "execution_count": 107,
   "metadata": {},
   "outputs": [
    {
     "data": {
      "text/plain": [
       "count   1804874.00\n",
       "mean         51.86\n",
       "std          46.82\n",
       "min           1.00\n",
       "25%          17.00\n",
       "50%          35.00\n",
       "75%          73.00\n",
       "max         841.00\n",
       "Name: comment_len, dtype: float64"
      ]
     },
     "execution_count": 107,
     "metadata": {},
     "output_type": "execute_result"
    }
   ],
   "source": [
    "train_df['comment_len'].describe()"
   ]
  },
  {
   "cell_type": "markdown",
   "metadata": {},
   "source": [
    "The vast majority of comments have a low word count, with only 6 possessing a wordcount over 500 words. 75% of the data has comment lengths below 73 words. This is a particularly important fact for our planned LSTM model. Longer sequences generally are harder for the network to accurately process given the amount of information that needs to be 'remembered'. In addition to this, we quickly run into memory constraints when parsing numerous long passages."
   ]
  },
  {
   "cell_type": "code",
   "execution_count": 108,
   "metadata": {},
   "outputs": [],
   "source": [
    "# Lets now look at character counts.\n",
    "len_list = []\n",
    "for i in train_df['comment_text']:\n",
    "    len_list.append(len(i))"
   ]
  },
  {
   "cell_type": "code",
   "execution_count": 114,
   "metadata": {},
   "outputs": [
    {
     "data": {
      "image/png": "[encoded data removed]",
      "text/plain": [
       "<Figure size 432x288 with 1 Axes>"
      ]
     },
     "metadata": {
      "image/png": {
       "height": 277,
       "width": 420
      },
      "needs_background": "light"
     },
     "output_type": "display_data"
    }
   ],
   "source": [
    "# no need to append onto the dataframe\n",
    "plt.figure()\n",
    "plt.hist(len_list, bins=40)\n",
    "plt.xlabel('Frequency bins')\n",
    "plt.ylabel('Frequency')\n",
    "plt.title('Distribution of Character Count')\n",
    "plt.show()"
   ]
  },
  {
   "cell_type": "markdown",
   "metadata": {},
   "source": [
    "In terms of characters, we see a somewhat bimodal distribution, with the majority of comments being very short, but another peak appearing around the 1000 character length. This may suggest that certain publications had a default max charachter limit set at 1000."
   ]
  },
  {
   "cell_type": "markdown",
   "metadata": {},
   "source": [
    "#### Length of Toxic comments Vs Non Toxic"
   ]
  },
  {
   "cell_type": "code",
   "execution_count": 110,
   "metadata": {},
   "outputs": [],
   "source": [
    "toxic_df = train_df[train_df['target'] == 1]\n",
    "non_toxic_df = train_df[train_df['target'] == 0]"
   ]
  },
  {
   "cell_type": "code",
   "execution_count": 115,
   "metadata": {},
   "outputs": [
    {
     "data": {
      "image/png": "[encoded data removed]",
      "text/plain": [
       "<Figure size 432x288 with 1 Axes>"
      ]
     },
     "metadata": {
      "image/png": {
       "height": 277,
       "width": 404
      },
      "needs_background": "light"
     },
     "output_type": "display_data"
    }
   ],
   "source": [
    "# Density=True normalizes the plot\n",
    "plt.figure()\n",
    "plt.hist(non_toxic_df['comment_len'], bins=40,alpha = 0.6, density=True, label='Non-Toxic')\n",
    "plt.hist(toxic_df['comment_len'], bins=40, color='orange', alpha=0.6, density=True, label='Toxic')\n",
    "plt.xlabel('Frequency bins')\n",
    "plt.ylabel('Frequency')\n",
    "plt.title('Distribution of Word Count')\n",
    "plt.legend()\n",
    "plt.show()\n"
   ]
  },
  {
   "cell_type": "markdown",
   "metadata": {},
   "source": [
    "We have normalized the above plots given the differences in absolute count. Comparing the two distributions shows that there does not appear to be any major differences in the distribution of comment lengths of toxic comments to non-toxic comments."
   ]
  }
 ],
 "metadata": {
  "kernelspec": {
   "display_name": "Python 3",
   "language": "python",
   "name": "python3"
  },
  "language_info": {
   "codemirror_mode": {
    "name": "ipython",
    "version": 3
   },
   "file_extension": ".py",
   "mimetype": "text/x-python",
   "name": "python",
   "nbconvert_exporter": "python",
   "pygments_lexer": "ipython3",
   "version": "3.7.3"
  }
 },
 "nbformat": 4,
 "nbformat_minor": 4
}
